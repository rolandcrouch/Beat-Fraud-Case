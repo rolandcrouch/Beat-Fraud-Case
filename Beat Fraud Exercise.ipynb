{
 "cells": [
  {
   "cell_type": "code",
   "execution_count": 1,
   "metadata": {},
   "outputs": [],
   "source": [
    "import pandas as pd\n",
    "import numpy as np\n",
    "\n",
    "from datetime import datetime, timedelta\n",
    "\n",
    "import pandasql as ps"
   ]
  },
  {
   "cell_type": "code",
   "execution_count": 2,
   "metadata": {},
   "outputs": [],
   "source": [
    "df_request = pd.read_csv('~/Desktop/request.csv')\n",
    "df_ride = pd.read_csv('~/Desktop/ride.csv')"
   ]
  },
  {
   "cell_type": "markdown",
   "metadata": {},
   "source": [
    "# Create thresholds and then filter requests data to uncover fraudulent passengers"
   ]
  },
  {
   "cell_type": "code",
   "execution_count": 3,
   "metadata": {},
   "outputs": [],
   "source": [
    "#alter objects to datetime, create a time to cancel column\n",
    "df_request['cancelled_at'] = pd.to_datetime(df_request['cancelled_at'])\n",
    "df_request['created_at'] = pd.to_datetime(df_request['created_at'])\n",
    "df_request['time_to_cancel'] = df_request['cancelled_at'] - df_request['created_at']"
   ]
  },
  {
   "cell_type": "code",
   "execution_count": 4,
   "metadata": {
    "scrolled": false
   },
   "outputs": [
    {
     "data": {
      "text/html": [
       "<div>\n",
       "<style scoped>\n",
       "    .dataframe tbody tr th:only-of-type {\n",
       "        vertical-align: middle;\n",
       "    }\n",
       "\n",
       "    .dataframe tbody tr th {\n",
       "        vertical-align: top;\n",
       "    }\n",
       "\n",
       "    .dataframe thead th {\n",
       "        text-align: right;\n",
       "    }\n",
       "</style>\n",
       "<table border=\"1\" class=\"dataframe\">\n",
       "  <thead>\n",
       "    <tr style=\"text-align: right;\">\n",
       "      <th></th>\n",
       "      <th>id_request</th>\n",
       "      <th>id_passenger</th>\n",
       "      <th>id_city</th>\n",
       "      <th>from_latitude</th>\n",
       "      <th>from_longitude</th>\n",
       "      <th>to_latitude</th>\n",
       "      <th>to_longitude</th>\n",
       "      <th>created_at</th>\n",
       "      <th>cancelled_at</th>\n",
       "      <th>timedout_at</th>\n",
       "      <th>passenger_device</th>\n",
       "      <th>passenger_payment_mean</th>\n",
       "      <th>passenger_udid</th>\n",
       "      <th>distance_estimate</th>\n",
       "      <th>duration_estimate</th>\n",
       "      <th>time_to_cancel</th>\n",
       "    </tr>\n",
       "  </thead>\n",
       "  <tbody>\n",
       "    <tr>\n",
       "      <th>0</th>\n",
       "      <td>91570297</td>\n",
       "      <td>7079607</td>\n",
       "      <td>1</td>\n",
       "      <td>19.531442</td>\n",
       "      <td>-99.228742</td>\n",
       "      <td>19.537476</td>\n",
       "      <td>-99.230058</td>\n",
       "      <td>2019-09-14 03:01:42</td>\n",
       "      <td>2019-09-14 03:01:44</td>\n",
       "      <td>NaN</td>\n",
       "      <td>998b8d09847b23d5/b25f5721575dc9ca</td>\n",
       "      <td>cash</td>\n",
       "      <td>508x8zax09c916c2508x8zax09c916c2508x8zax</td>\n",
       "      <td>1.20</td>\n",
       "      <td>NaN</td>\n",
       "      <td>00:00:02</td>\n",
       "    </tr>\n",
       "    <tr>\n",
       "      <th>1</th>\n",
       "      <td>98877504</td>\n",
       "      <td>7123610</td>\n",
       "      <td>1</td>\n",
       "      <td>19.361999</td>\n",
       "      <td>-99.002745</td>\n",
       "      <td>19.354359</td>\n",
       "      <td>-99.010834</td>\n",
       "      <td>2019-09-02 11:34:32</td>\n",
       "      <td>NaT</td>\n",
       "      <td>NaN</td>\n",
       "      <td>daisy_sprout/Mi A2 Lite</td>\n",
       "      <td>cash</td>\n",
       "      <td>4293616092704954293616092704954293616092</td>\n",
       "      <td>1.35</td>\n",
       "      <td>224.0</td>\n",
       "      <td>NaT</td>\n",
       "    </tr>\n",
       "    <tr>\n",
       "      <th>2</th>\n",
       "      <td>93230913</td>\n",
       "      <td>808725</td>\n",
       "      <td>1</td>\n",
       "      <td>19.502474</td>\n",
       "      <td>-99.095594</td>\n",
       "      <td>19.482185</td>\n",
       "      <td>-99.111334</td>\n",
       "      <td>2019-09-18 12:29:57</td>\n",
       "      <td>2019-09-18 12:30:41</td>\n",
       "      <td>NaN</td>\n",
       "      <td>albus/Moto Z2 Play</td>\n",
       "      <td>cash</td>\n",
       "      <td>9199666486898729199666486898729199666486</td>\n",
       "      <td>3.40</td>\n",
       "      <td>NaN</td>\n",
       "      <td>00:00:44</td>\n",
       "    </tr>\n",
       "    <tr>\n",
       "      <th>3</th>\n",
       "      <td>99055888</td>\n",
       "      <td>7093734</td>\n",
       "      <td>1</td>\n",
       "      <td>19.466261</td>\n",
       "      <td>-99.091820</td>\n",
       "      <td>19.447416</td>\n",
       "      <td>-99.152832</td>\n",
       "      <td>2019-09-07 00:42:41</td>\n",
       "      <td>2019-09-07 00:44:28</td>\n",
       "      <td>NaN</td>\n",
       "      <td>iPhone7,2</td>\n",
       "      <td>cash</td>\n",
       "      <td>78908Z84B8Z1-BA38-0ZA9-51Y7-5243Y11XXBB2</td>\n",
       "      <td>9.95</td>\n",
       "      <td>NaN</td>\n",
       "      <td>00:01:47</td>\n",
       "    </tr>\n",
       "    <tr>\n",
       "      <th>4</th>\n",
       "      <td>92140194</td>\n",
       "      <td>8925095</td>\n",
       "      <td>2</td>\n",
       "      <td>25.782421</td>\n",
       "      <td>-100.398782</td>\n",
       "      <td>25.763432</td>\n",
       "      <td>-100.265818</td>\n",
       "      <td>2019-09-15 22:00:06</td>\n",
       "      <td>NaT</td>\n",
       "      <td>2019-09-15 22:00:30.000</td>\n",
       "      <td>j7y17lte/SM-J730GM</td>\n",
       "      <td>cash</td>\n",
       "      <td>9137916496701999137916496701999137916496</td>\n",
       "      <td>23.45</td>\n",
       "      <td>NaN</td>\n",
       "      <td>NaT</td>\n",
       "    </tr>\n",
       "  </tbody>\n",
       "</table>\n",
       "</div>"
      ],
      "text/plain": [
       "   id_request  id_passenger  id_city  from_latitude  from_longitude  \\\n",
       "0    91570297       7079607        1      19.531442      -99.228742   \n",
       "1    98877504       7123610        1      19.361999      -99.002745   \n",
       "2    93230913        808725        1      19.502474      -99.095594   \n",
       "3    99055888       7093734        1      19.466261      -99.091820   \n",
       "4    92140194       8925095        2      25.782421     -100.398782   \n",
       "\n",
       "   to_latitude  to_longitude          created_at        cancelled_at  \\\n",
       "0    19.537476    -99.230058 2019-09-14 03:01:42 2019-09-14 03:01:44   \n",
       "1    19.354359    -99.010834 2019-09-02 11:34:32                 NaT   \n",
       "2    19.482185    -99.111334 2019-09-18 12:29:57 2019-09-18 12:30:41   \n",
       "3    19.447416    -99.152832 2019-09-07 00:42:41 2019-09-07 00:44:28   \n",
       "4    25.763432   -100.265818 2019-09-15 22:00:06                 NaT   \n",
       "\n",
       "               timedout_at                   passenger_device  \\\n",
       "0                      NaN  998b8d09847b23d5/b25f5721575dc9ca   \n",
       "1                      NaN            daisy_sprout/Mi A2 Lite   \n",
       "2                      NaN                 albus/Moto Z2 Play   \n",
       "3                      NaN                          iPhone7,2   \n",
       "4  2019-09-15 22:00:30.000                 j7y17lte/SM-J730GM   \n",
       "\n",
       "  passenger_payment_mean                            passenger_udid  \\\n",
       "0                   cash  508x8zax09c916c2508x8zax09c916c2508x8zax   \n",
       "1                   cash  4293616092704954293616092704954293616092   \n",
       "2                   cash  9199666486898729199666486898729199666486   \n",
       "3                   cash  78908Z84B8Z1-BA38-0ZA9-51Y7-5243Y11XXBB2   \n",
       "4                   cash  9137916496701999137916496701999137916496   \n",
       "\n",
       "   distance_estimate  duration_estimate time_to_cancel  \n",
       "0               1.20                NaN       00:00:02  \n",
       "1               1.35              224.0            NaT  \n",
       "2               3.40                NaN       00:00:44  \n",
       "3               9.95                NaN       00:01:47  \n",
       "4              23.45                NaN            NaT  "
      ]
     },
     "execution_count": 4,
     "metadata": {},
     "output_type": "execute_result"
    }
   ],
   "source": [
    "df_request.head()"
   ]
  },
  {
   "cell_type": "code",
   "execution_count": 5,
   "metadata": {},
   "outputs": [
    {
     "name": "stderr",
     "output_type": "stream",
     "text": [
      "/Users/rolandcrouch/opt/anaconda3/lib/python3.7/site-packages/ipykernel_launcher.py:4: SettingWithCopyWarning: \n",
      "A value is trying to be set on a copy of a slice from a DataFrame.\n",
      "Try using .loc[row_indexer,col_indexer] = value instead\n",
      "\n",
      "See the caveats in the documentation: https://pandas.pydata.org/pandas-docs/stable/user_guide/indexing.html#returning-a-view-versus-a-copy\n",
      "  after removing the cwd from sys.path.\n"
     ]
    }
   ],
   "source": [
    "#exclude requests that were not cancelled, convert time to cancel to an integer\n",
    "bool_series = pd.notnull(df_request['cancelled_at'])\n",
    "df_time_to_cancel = df_request[bool_series]\n",
    "df_time_to_cancel['time_to_cancel'] = pd.to_numeric(df_time_to_cancel['time_to_cancel'])/10**9\n"
   ]
  },
  {
   "cell_type": "code",
   "execution_count": 6,
   "metadata": {},
   "outputs": [
    {
     "data": {
      "text/html": [
       "<div>\n",
       "<style scoped>\n",
       "    .dataframe tbody tr th:only-of-type {\n",
       "        vertical-align: middle;\n",
       "    }\n",
       "\n",
       "    .dataframe tbody tr th {\n",
       "        vertical-align: top;\n",
       "    }\n",
       "\n",
       "    .dataframe thead th {\n",
       "        text-align: right;\n",
       "    }\n",
       "</style>\n",
       "<table border=\"1\" class=\"dataframe\">\n",
       "  <thead>\n",
       "    <tr style=\"text-align: right;\">\n",
       "      <th></th>\n",
       "      <th>id_request</th>\n",
       "      <th>id_passenger</th>\n",
       "      <th>id_city</th>\n",
       "      <th>from_latitude</th>\n",
       "      <th>from_longitude</th>\n",
       "      <th>to_latitude</th>\n",
       "      <th>to_longitude</th>\n",
       "      <th>created_at</th>\n",
       "      <th>cancelled_at</th>\n",
       "      <th>timedout_at</th>\n",
       "      <th>passenger_device</th>\n",
       "      <th>passenger_payment_mean</th>\n",
       "      <th>passenger_udid</th>\n",
       "      <th>distance_estimate</th>\n",
       "      <th>duration_estimate</th>\n",
       "      <th>time_to_cancel</th>\n",
       "    </tr>\n",
       "  </thead>\n",
       "  <tbody>\n",
       "    <tr>\n",
       "      <th>0</th>\n",
       "      <td>91570297</td>\n",
       "      <td>7079607</td>\n",
       "      <td>1</td>\n",
       "      <td>19.531442</td>\n",
       "      <td>-99.228742</td>\n",
       "      <td>19.537476</td>\n",
       "      <td>-99.230058</td>\n",
       "      <td>2019-09-14 03:01:42</td>\n",
       "      <td>2019-09-14 03:01:44</td>\n",
       "      <td>NaN</td>\n",
       "      <td>998b8d09847b23d5/b25f5721575dc9ca</td>\n",
       "      <td>cash</td>\n",
       "      <td>508x8zax09c916c2508x8zax09c916c2508x8zax</td>\n",
       "      <td>1.20</td>\n",
       "      <td>NaN</td>\n",
       "      <td>2.0</td>\n",
       "    </tr>\n",
       "    <tr>\n",
       "      <th>2</th>\n",
       "      <td>93230913</td>\n",
       "      <td>808725</td>\n",
       "      <td>1</td>\n",
       "      <td>19.502474</td>\n",
       "      <td>-99.095594</td>\n",
       "      <td>19.482185</td>\n",
       "      <td>-99.111334</td>\n",
       "      <td>2019-09-18 12:29:57</td>\n",
       "      <td>2019-09-18 12:30:41</td>\n",
       "      <td>NaN</td>\n",
       "      <td>albus/Moto Z2 Play</td>\n",
       "      <td>cash</td>\n",
       "      <td>9199666486898729199666486898729199666486</td>\n",
       "      <td>3.40</td>\n",
       "      <td>NaN</td>\n",
       "      <td>44.0</td>\n",
       "    </tr>\n",
       "    <tr>\n",
       "      <th>3</th>\n",
       "      <td>99055888</td>\n",
       "      <td>7093734</td>\n",
       "      <td>1</td>\n",
       "      <td>19.466261</td>\n",
       "      <td>-99.091820</td>\n",
       "      <td>19.447416</td>\n",
       "      <td>-99.152832</td>\n",
       "      <td>2019-09-07 00:42:41</td>\n",
       "      <td>2019-09-07 00:44:28</td>\n",
       "      <td>NaN</td>\n",
       "      <td>iPhone7,2</td>\n",
       "      <td>cash</td>\n",
       "      <td>78908Z84B8Z1-BA38-0ZA9-51Y7-5243Y11XXBB2</td>\n",
       "      <td>9.95</td>\n",
       "      <td>NaN</td>\n",
       "      <td>107.0</td>\n",
       "    </tr>\n",
       "    <tr>\n",
       "      <th>5</th>\n",
       "      <td>7236680</td>\n",
       "      <td>8801410</td>\n",
       "      <td>1</td>\n",
       "      <td>19.657555</td>\n",
       "      <td>-99.074321</td>\n",
       "      <td>19.673426</td>\n",
       "      <td>-99.087038</td>\n",
       "      <td>2019-09-30 00:03:37</td>\n",
       "      <td>2019-09-30 00:03:40</td>\n",
       "      <td>NaN</td>\n",
       "      <td>j2y18lte/SM-J250M</td>\n",
       "      <td>cash</td>\n",
       "      <td>9199873948565369199873948565369199873948</td>\n",
       "      <td>3.00</td>\n",
       "      <td>NaN</td>\n",
       "      <td>3.0</td>\n",
       "    </tr>\n",
       "    <tr>\n",
       "      <th>10</th>\n",
       "      <td>95864779</td>\n",
       "      <td>10766</td>\n",
       "      <td>1</td>\n",
       "      <td>19.434386</td>\n",
       "      <td>-99.085298</td>\n",
       "      <td>19.294537</td>\n",
       "      <td>-99.152945</td>\n",
       "      <td>2019-09-22 06:57:43</td>\n",
       "      <td>2019-09-22 07:00:56</td>\n",
       "      <td>NaN</td>\n",
       "      <td>a30/SM-A305G</td>\n",
       "      <td>cash</td>\n",
       "      <td>9104877606699389104877606699389104877606</td>\n",
       "      <td>21.08</td>\n",
       "      <td>NaN</td>\n",
       "      <td>193.0</td>\n",
       "    </tr>\n",
       "  </tbody>\n",
       "</table>\n",
       "</div>"
      ],
      "text/plain": [
       "    id_request  id_passenger  id_city  from_latitude  from_longitude  \\\n",
       "0     91570297       7079607        1      19.531442      -99.228742   \n",
       "2     93230913        808725        1      19.502474      -99.095594   \n",
       "3     99055888       7093734        1      19.466261      -99.091820   \n",
       "5      7236680       8801410        1      19.657555      -99.074321   \n",
       "10    95864779         10766        1      19.434386      -99.085298   \n",
       "\n",
       "    to_latitude  to_longitude          created_at        cancelled_at  \\\n",
       "0     19.537476    -99.230058 2019-09-14 03:01:42 2019-09-14 03:01:44   \n",
       "2     19.482185    -99.111334 2019-09-18 12:29:57 2019-09-18 12:30:41   \n",
       "3     19.447416    -99.152832 2019-09-07 00:42:41 2019-09-07 00:44:28   \n",
       "5     19.673426    -99.087038 2019-09-30 00:03:37 2019-09-30 00:03:40   \n",
       "10    19.294537    -99.152945 2019-09-22 06:57:43 2019-09-22 07:00:56   \n",
       "\n",
       "   timedout_at                   passenger_device passenger_payment_mean  \\\n",
       "0          NaN  998b8d09847b23d5/b25f5721575dc9ca                   cash   \n",
       "2          NaN                 albus/Moto Z2 Play                   cash   \n",
       "3          NaN                          iPhone7,2                   cash   \n",
       "5          NaN                  j2y18lte/SM-J250M                   cash   \n",
       "10         NaN                       a30/SM-A305G                   cash   \n",
       "\n",
       "                              passenger_udid  distance_estimate  \\\n",
       "0   508x8zax09c916c2508x8zax09c916c2508x8zax               1.20   \n",
       "2   9199666486898729199666486898729199666486               3.40   \n",
       "3   78908Z84B8Z1-BA38-0ZA9-51Y7-5243Y11XXBB2               9.95   \n",
       "5   9199873948565369199873948565369199873948               3.00   \n",
       "10  9104877606699389104877606699389104877606              21.08   \n",
       "\n",
       "    duration_estimate  time_to_cancel  \n",
       "0                 NaN             2.0  \n",
       "2                 NaN            44.0  \n",
       "3                 NaN           107.0  \n",
       "5                 NaN             3.0  \n",
       "10                NaN           193.0  "
      ]
     },
     "execution_count": 6,
     "metadata": {},
     "output_type": "execute_result"
    }
   ],
   "source": [
    "df_time_to_cancel.head()"
   ]
  },
  {
   "cell_type": "code",
   "execution_count": 7,
   "metadata": {},
   "outputs": [
    {
     "data": {
      "text/html": [
       "<div>\n",
       "<style scoped>\n",
       "    .dataframe tbody tr th:only-of-type {\n",
       "        vertical-align: middle;\n",
       "    }\n",
       "\n",
       "    .dataframe tbody tr th {\n",
       "        vertical-align: top;\n",
       "    }\n",
       "\n",
       "    .dataframe thead th {\n",
       "        text-align: right;\n",
       "    }\n",
       "</style>\n",
       "<table border=\"1\" class=\"dataframe\">\n",
       "  <thead>\n",
       "    <tr style=\"text-align: right;\">\n",
       "      <th></th>\n",
       "      <th>id_passenger</th>\n",
       "      <th>time_to_cancel</th>\n",
       "    </tr>\n",
       "  </thead>\n",
       "  <tbody>\n",
       "    <tr>\n",
       "      <th>0</th>\n",
       "      <td>1</td>\n",
       "      <td>82.666667</td>\n",
       "    </tr>\n",
       "    <tr>\n",
       "      <th>1</th>\n",
       "      <td>2</td>\n",
       "      <td>102.666667</td>\n",
       "    </tr>\n",
       "    <tr>\n",
       "      <th>2</th>\n",
       "      <td>3</td>\n",
       "      <td>157.125000</td>\n",
       "    </tr>\n",
       "    <tr>\n",
       "      <th>3</th>\n",
       "      <td>8</td>\n",
       "      <td>98.285714</td>\n",
       "    </tr>\n",
       "    <tr>\n",
       "      <th>4</th>\n",
       "      <td>10</td>\n",
       "      <td>151.000000</td>\n",
       "    </tr>\n",
       "  </tbody>\n",
       "</table>\n",
       "</div>"
      ],
      "text/plain": [
       "   id_passenger  time_to_cancel\n",
       "0             1       82.666667\n",
       "1             2      102.666667\n",
       "2             3      157.125000\n",
       "3             8       98.285714\n",
       "4            10      151.000000"
      ]
     },
     "execution_count": 7,
     "metadata": {},
     "output_type": "execute_result"
    }
   ],
   "source": [
    "# average time to cancel per passenger and reset index\n",
    "df_time_to_cancel = df_time_to_cancel.groupby('id_passenger')['time_to_cancel'].mean()\n",
    "df_time_to_cancel = df_time_to_cancel.reset_index()\n",
    "df_time_to_cancel.head()"
   ]
  },
  {
   "cell_type": "code",
   "execution_count": 8,
   "metadata": {},
   "outputs": [
    {
     "data": {
      "text/html": [
       "<div>\n",
       "<style scoped>\n",
       "    .dataframe tbody tr th:only-of-type {\n",
       "        vertical-align: middle;\n",
       "    }\n",
       "\n",
       "    .dataframe tbody tr th {\n",
       "        vertical-align: top;\n",
       "    }\n",
       "\n",
       "    .dataframe thead th {\n",
       "        text-align: right;\n",
       "    }\n",
       "</style>\n",
       "<table border=\"1\" class=\"dataframe\">\n",
       "  <thead>\n",
       "    <tr style=\"text-align: right;\">\n",
       "      <th></th>\n",
       "      <th>id_passenger</th>\n",
       "      <th>time_to_cancel</th>\n",
       "    </tr>\n",
       "  </thead>\n",
       "  <tbody>\n",
       "    <tr>\n",
       "      <th>0</th>\n",
       "      <td>1</td>\n",
       "      <td>82.666667</td>\n",
       "    </tr>\n",
       "    <tr>\n",
       "      <th>1</th>\n",
       "      <td>2</td>\n",
       "      <td>102.666667</td>\n",
       "    </tr>\n",
       "    <tr>\n",
       "      <th>2</th>\n",
       "      <td>3</td>\n",
       "      <td>157.125000</td>\n",
       "    </tr>\n",
       "    <tr>\n",
       "      <th>3</th>\n",
       "      <td>8</td>\n",
       "      <td>98.285714</td>\n",
       "    </tr>\n",
       "    <tr>\n",
       "      <th>4</th>\n",
       "      <td>10</td>\n",
       "      <td>151.000000</td>\n",
       "    </tr>\n",
       "  </tbody>\n",
       "</table>\n",
       "</div>"
      ],
      "text/plain": [
       "   id_passenger  time_to_cancel\n",
       "0             1       82.666667\n",
       "1             2      102.666667\n",
       "2             3      157.125000\n",
       "3             8       98.285714\n",
       "4            10      151.000000"
      ]
     },
     "execution_count": 8,
     "metadata": {},
     "output_type": "execute_result"
    }
   ],
   "source": [
    "df_time_to_cancel.head()"
   ]
  },
  {
   "cell_type": "code",
   "execution_count": 9,
   "metadata": {},
   "outputs": [
    {
     "data": {
      "text/plain": [
       "12.79278067648026"
      ]
     },
     "execution_count": 9,
     "metadata": {},
     "output_type": "execute_result"
    }
   ],
   "source": [
    "# work out the average requests per passenger\n",
    "requests_per_passenger = df_request['created_at'].count()/df_request['id_passenger'].nunique()\n",
    "requests_per_passenger"
   ]
  },
  {
   "cell_type": "code",
   "execution_count": 10,
   "metadata": {},
   "outputs": [
    {
     "data": {
      "text/plain": [
       "0.3321831804030902"
      ]
     },
     "execution_count": 10,
     "metadata": {},
     "output_type": "execute_result"
    }
   ],
   "source": [
    "# workout the average cancel rate per passenger\n",
    "df_cancel_rate = df_request.groupby('id_passenger').agg({'created_at':'count','cancelled_at':'count'})\n",
    "df_cancel_rate = df_cancel_rate.reset_index()\n",
    "df_cancel_rate['cancel_rate'] = df_cancel_rate['cancelled_at']/df_cancel_rate['created_at']\n",
    "cancel_rate_per_passenger = df_cancel_rate['cancel_rate'].mean()\n",
    "cancel_rate_per_passenger"
   ]
  },
  {
   "cell_type": "code",
   "execution_count": 11,
   "metadata": {},
   "outputs": [],
   "source": [
    "# union cancel rate and time to cancel\n",
    "# apply filters as mentioned in presentation to acquire fraudulent passengers\n",
    "df_union = df_cancel_rate.merge(df_time_to_cancel, on = 'id_passenger')\n",
    "df_fraudulent_passengers = df_union[(df_union.time_to_cancel <= 5) & (df_union.cancel_rate > \n",
    "                                   (cancel_rate_per_passenger + ((((cancel_rate_per_passenger*100)**(1/2))/100)*3)))&\n",
    "                                   (df_union.created_at > (requests_per_passenger + \n",
    "                                    (requests_per_passenger**(1/2))*3))]"
   ]
  },
  {
   "cell_type": "code",
   "execution_count": 12,
   "metadata": {},
   "outputs": [
    {
     "name": "stderr",
     "output_type": "stream",
     "text": [
      "/Users/rolandcrouch/opt/anaconda3/lib/python3.7/site-packages/ipykernel_launcher.py:2: SettingWithCopyWarning: \n",
      "A value is trying to be set on a copy of a slice from a DataFrame\n",
      "\n",
      "See the caveats in the documentation: https://pandas.pydata.org/pandas-docs/stable/user_guide/indexing.html#returning-a-view-versus-a-copy\n",
      "  \n"
     ]
    },
    {
     "data": {
      "text/html": [
       "<div>\n",
       "<style scoped>\n",
       "    .dataframe tbody tr th:only-of-type {\n",
       "        vertical-align: middle;\n",
       "    }\n",
       "\n",
       "    .dataframe tbody tr th {\n",
       "        vertical-align: top;\n",
       "    }\n",
       "\n",
       "    .dataframe thead th {\n",
       "        text-align: right;\n",
       "    }\n",
       "</style>\n",
       "<table border=\"1\" class=\"dataframe\">\n",
       "  <thead>\n",
       "    <tr style=\"text-align: right;\">\n",
       "      <th></th>\n",
       "      <th>id_passenger</th>\n",
       "      <th>created_at</th>\n",
       "      <th>cancelled_at</th>\n",
       "      <th>cancel_rate</th>\n",
       "      <th>time_to_cancel</th>\n",
       "    </tr>\n",
       "  </thead>\n",
       "  <tbody>\n",
       "    <tr>\n",
       "      <th>159480</th>\n",
       "      <td>898071</td>\n",
       "      <td>412</td>\n",
       "      <td>244</td>\n",
       "      <td>0.592233</td>\n",
       "      <td>4.196721</td>\n",
       "    </tr>\n",
       "    <tr>\n",
       "      <th>545882</th>\n",
       "      <td>8962259</td>\n",
       "      <td>392</td>\n",
       "      <td>389</td>\n",
       "      <td>0.992347</td>\n",
       "      <td>3.473008</td>\n",
       "    </tr>\n",
       "    <tr>\n",
       "      <th>32626</th>\n",
       "      <td>88680</td>\n",
       "      <td>379</td>\n",
       "      <td>362</td>\n",
       "      <td>0.955145</td>\n",
       "      <td>2.737569</td>\n",
       "    </tr>\n",
       "    <tr>\n",
       "      <th>356244</th>\n",
       "      <td>7928436</td>\n",
       "      <td>361</td>\n",
       "      <td>255</td>\n",
       "      <td>0.706371</td>\n",
       "      <td>3.811765</td>\n",
       "    </tr>\n",
       "    <tr>\n",
       "      <th>496930</th>\n",
       "      <td>8831926</td>\n",
       "      <td>359</td>\n",
       "      <td>314</td>\n",
       "      <td>0.874652</td>\n",
       "      <td>2.592357</td>\n",
       "    </tr>\n",
       "  </tbody>\n",
       "</table>\n",
       "</div>"
      ],
      "text/plain": [
       "        id_passenger  created_at  cancelled_at  cancel_rate  time_to_cancel\n",
       "159480        898071         412           244     0.592233        4.196721\n",
       "545882       8962259         392           389     0.992347        3.473008\n",
       "32626          88680         379           362     0.955145        2.737569\n",
       "356244       7928436         361           255     0.706371        3.811765\n",
       "496930       8831926         359           314     0.874652        2.592357"
      ]
     },
     "execution_count": 12,
     "metadata": {},
     "output_type": "execute_result"
    }
   ],
   "source": [
    "# sort values to get a fraudulent passenger with the most requests\n",
    "df_fraudulent_passengers.sort_values(['created_at'], ascending = False ,inplace = True)\n",
    "df_fraudulent_passengers.head()"
   ]
  },
  {
   "cell_type": "code",
   "execution_count": 36,
   "metadata": {},
   "outputs": [
    {
     "data": {
      "text/plain": [
       "created_at_x    10425144\n",
       "created_at_y     1444285\n",
       "dtype: int64"
      ]
     },
     "execution_count": 36,
     "metadata": {},
     "output_type": "execute_result"
    }
   ],
   "source": [
    "# join the fraudulent passengers onto request table and count number of requests they are responsible for\n",
    "df_fraud_requests = df_request.merge(df_fraudulent_passengers, on = 'id_passenger', how = 'left')\n",
    "df_fraud_requests_count = df_fraud_requests[['created_at_x','created_at_y']]\n",
    "df_fraud_requests_count.count()"
   ]
  },
  {
   "cell_type": "code",
   "execution_count": 31,
   "metadata": {},
   "outputs": [
    {
     "data": {
      "text/plain": [
       "0.13853861395103992"
      ]
     },
     "execution_count": 31,
     "metadata": {},
     "output_type": "execute_result"
    }
   ],
   "source": [
    "# % of requests made by fraudulent passengers\n",
    "1444285/10425144"
   ]
  },
  {
   "cell_type": "code",
   "execution_count": 37,
   "metadata": {},
   "outputs": [
    {
     "data": {
      "text/plain": [
       "cancelled_at_x    4154018\n",
       "cancelled_at_y    1444285\n",
       "dtype: int64"
      ]
     },
     "execution_count": 37,
     "metadata": {},
     "output_type": "execute_result"
    }
   ],
   "source": [
    "# number of cancellations made by fraudulent passengers\n",
    "df_fraud_cancels = df_fraud_requests[['cancelled_at_x','cancelled_at_y']]\n",
    "df_fraud_cancels.count()"
   ]
  },
  {
   "cell_type": "code",
   "execution_count": 38,
   "metadata": {},
   "outputs": [
    {
     "data": {
      "text/plain": [
       "0.3476838569308077"
      ]
     },
     "execution_count": 38,
     "metadata": {},
     "output_type": "execute_result"
    }
   ],
   "source": [
    "# % of cancellations made by fraudalent passengers\n",
    "1444285/4154018"
   ]
  },
  {
   "cell_type": "code",
   "execution_count": 13,
   "metadata": {},
   "outputs": [
    {
     "name": "stderr",
     "output_type": "stream",
     "text": [
      "/Users/rolandcrouch/opt/anaconda3/lib/python3.7/site-packages/ipykernel_launcher.py:4: SettingWithCopyWarning: \n",
      "A value is trying to be set on a copy of a slice from a DataFrame\n",
      "\n",
      "See the caveats in the documentation: https://pandas.pydata.org/pandas-docs/stable/user_guide/indexing.html#returning-a-view-versus-a-copy\n",
      "  after removing the cwd from sys.path.\n"
     ]
    }
   ],
   "source": [
    "# select the passenger with most requests, sort the data so requests are in time order, \n",
    "# send to excel for ease of reading\n",
    "df_fraudulent_passenger = df_request[df_request.id_passenger == 898071]\n",
    "df_fraudulent_passenger.sort_values(['created_at'], ascending = True ,inplace = True)\n",
    "df_fraudulent_passenger.to_excel('~/Desktop/fraud_passenger.xlsx')"
   ]
  },
  {
   "cell_type": "markdown",
   "metadata": {},
   "source": [
    "# Look at rides table to match fraudulent requests"
   ]
  },
  {
   "cell_type": "code",
   "execution_count": 14,
   "metadata": {},
   "outputs": [
    {
     "name": "stderr",
     "output_type": "stream",
     "text": [
      "/Users/rolandcrouch/opt/anaconda3/lib/python3.7/site-packages/ipykernel_launcher.py:7: SettingWithCopyWarning: \n",
      "A value is trying to be set on a copy of a slice from a DataFrame\n",
      "\n",
      "See the caveats in the documentation: https://pandas.pydata.org/pandas-docs/stable/user_guide/indexing.html#returning-a-view-versus-a-copy\n",
      "  import sys\n"
     ]
    }
   ],
   "source": [
    "# convert object to datetime\n",
    "# Look at rides take only between specific time points from previous step in Excel\n",
    "# Again send to excel for ease of reading\n",
    "df_ride['created'] = pd.to_datetime(df_ride['created'])\n",
    "df_ride_time = df_ride[(df_ride['created'] > '2019-09-02  06:18:15') & \n",
    "                       (df_ride['created'] < '2019-09-02  06:50:00')]  \n",
    "df_ride_time.sort_values(['created'], ascending = True ,inplace = True)\n",
    "df_ride_time.to_excel('~/Desktop/fraud_ride.xlsx')"
   ]
  },
  {
   "cell_type": "markdown",
   "metadata": {},
   "source": [
    "# % of rides with revenue of 0"
   ]
  },
  {
   "cell_type": "code",
   "execution_count": 21,
   "metadata": {},
   "outputs": [
    {
     "data": {
      "text/plain": [
       "id_ride                0.248760\n",
       "id_request             0.248760\n",
       "id_driver              0.248760\n",
       "distance               0.248760\n",
       "revenue                0.248760\n",
       "created                0.248760\n",
       "ride_total_distance    0.058005\n",
       "duration               0.058292\n",
       "driver_udid            0.248760\n",
       "started_at             0.058304\n",
       "ended_at               0.058040\n",
       "dtype: float64"
      ]
     },
     "execution_count": 21,
     "metadata": {},
     "output_type": "execute_result"
    }
   ],
   "source": [
    "df_ride[df_ride.revenue == 0].count()/ df_ride.count()"
   ]
  }
 ],
 "metadata": {
  "kernelspec": {
   "display_name": "Python 3",
   "language": "python",
   "name": "python3"
  },
  "language_info": {
   "codemirror_mode": {
    "name": "ipython",
    "version": 3
   },
   "file_extension": ".py",
   "mimetype": "text/x-python",
   "name": "python",
   "nbconvert_exporter": "python",
   "pygments_lexer": "ipython3",
   "version": "3.7.6"
  }
 },
 "nbformat": 4,
 "nbformat_minor": 4
}
